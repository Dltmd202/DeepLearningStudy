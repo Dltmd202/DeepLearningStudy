{
  "nbformat": 4,
  "nbformat_minor": 0,
  "metadata": {
    "colab": {
      "name": "CNN.ipynb",
      "provenance": [],
      "authorship_tag": "ABX9TyNOS9IvvuZGO3VpywRWXQD1",
      "include_colab_link": true
    },
    "kernelspec": {
      "name": "python3",
      "display_name": "Python 3"
    }
  },
  "cells": [
    {
      "cell_type": "markdown",
      "metadata": {
        "id": "view-in-github",
        "colab_type": "text"
      },
      "source": [
        "<a href=\"https://colab.research.google.com/github/Dltmd202/DeepLearningStudy/blob/main/CNN.ipynb\" target=\"_parent\"><img src=\"https://colab.research.google.com/assets/colab-badge.svg\" alt=\"Open In Colab\"/></a>"
      ]
    },
    {
      "cell_type": "markdown",
      "metadata": {
        "id": "he-xvSTd3hoX"
      },
      "source": [
        "## 파이썬 구현"
      ]
    },
    {
      "cell_type": "code",
      "metadata": {
        "id": "7igfOSUseZ2E",
        "colab": {
          "base_uri": "https://localhost:8080/"
        },
        "outputId": "769144b4-67dd-460f-bc78-27913cfa5d61"
      },
      "source": [
        "import numpy as np\n",
        "from scipy.signal import convolve, correlate\n",
        "import tensorflow as tf\n",
        "from sklearn.model_selection import train_test_split\n",
        "\n",
        "(x_train_all, y_train_all), (x_test, y_test) = tf.keras.datasets.fashion_mnist.load_data()\n",
        "x_train, x_val, y_train, y_val = train_test_split(x_train_all, y_train_all,\n",
        "                                                  stratify=y_train_all, test_size=0.2,\n",
        "                                                  random_state=42)\n",
        "y_train_encoded = tf.keras.utils.to_categorical(y_train)\n",
        "y_val_encoded = tf.keras.utils.to_categorical(y_val)\n",
        "x_train = x_train.reshape(-1, 28, 28, 1)\n",
        "x_val = x_val.reshape(-1, 28, 28, 1)\n",
        "x_train = x_train / 255\n",
        "x_val = x_val / 255"
      ],
      "execution_count": 7,
      "outputs": [
        {
          "output_type": "stream",
          "text": [
            "Downloading data from https://storage.googleapis.com/tensorflow/tf-keras-datasets/train-labels-idx1-ubyte.gz\n",
            "32768/29515 [=================================] - 0s 0us/step\n",
            "Downloading data from https://storage.googleapis.com/tensorflow/tf-keras-datasets/train-images-idx3-ubyte.gz\n",
            "26427392/26421880 [==============================] - 0s 0us/step\n",
            "Downloading data from https://storage.googleapis.com/tensorflow/tf-keras-datasets/t10k-labels-idx1-ubyte.gz\n",
            "8192/5148 [===============================================] - 0s 0us/step\n",
            "Downloading data from https://storage.googleapis.com/tensorflow/tf-keras-datasets/t10k-images-idx3-ubyte.gz\n",
            "4423680/4422102 [==============================] - 0s 0us/step\n"
          ],
          "name": "stdout"
        }
      ]
    },
    {
      "cell_type": "code",
      "metadata": {
        "id": "EUIFt2o4u8vr"
      },
      "source": [
        "class ConvolutionNetwork:\n",
        "\n",
        "  def __init__(self, n_kernels=10, units=10, batch_size=32, learning_rate=0.1):\n",
        "    self.n_kernels = n_kernels\n",
        "    self.kernel_size = 3\n",
        "    self.optimizer = None\n",
        "    self.conv_w = None\n",
        "    self.conv_b = None\n",
        "    self.units = units\n",
        "    self.batch_size = batch_size\n",
        "    self.w1 = None\n",
        "    self.b1 = None\n",
        "    self.w2 = None\n",
        "    self.b2 = None\n",
        "    self.a1 = None\n",
        "    self.losses = []\n",
        "    self.val_losses = []\n",
        "    self.lr = learning_rate\n",
        "  \n",
        "  def forpass(self, x):\n",
        "    c_out = tf.nn.conv2d(x, self.conv_w, strides=1, padding='SAME') + self.conv_b\n",
        "    r_out = tf.nn.relu(c_out)\n",
        "    p_out = tf.nn.max_pool2d(r_out, ksize=2, strides=2, padding='VALID')\n",
        "    f_out = tf.reshape(p_out, [x.shape[0], -1])\n",
        "    z1 = tf.matmul(f_out, self.w1) + self.b1\n",
        "    a1 = tf.nn.relu(z1)\n",
        "    z2 = tf.matmul(a1, self.w2) + self.b2\n",
        "    return z2\n",
        "  \n",
        "  def init_weights(self, input_shape, n_classes):\n",
        "    g = tf.initializers.glorot_uniform()\n",
        "    self.conv_w = tf.Variable(g((3, 3, 1, self.n_kernels)))\n",
        "    self.conv_b = tf.Variable(np.zeros(self.n_kernels), dtype=float)\n",
        "    n_features =14 * 14 * self.n_kernels\n",
        "    self.w1 = tf.Variable(g((n_features, self.units)))\n",
        "    self.b1 = tf.Variable(np.zeros(self.units), dtype=float)\n",
        "    self.w2 = tf.Variable(g((self.units, n_classes)))\n",
        "    self.b2 = tf.Variable(np.zeros(n_classes), dtype=float)\n",
        "  \n",
        "  def fit(self, x, y, epochs=100, x_val=None, y_val=None):\n",
        "    self.init_weights(x.shape, y.shape[1])\n",
        "    self.optimizer = tf.optimizers.SGD(learning_rate=self.lr)\n",
        "    for i in range(epochs):\n",
        "      print('eopoch', i, end=' ')\n",
        "      batch_losses = []\n",
        "      for x_batch, y_batch in self.gen_batch(x, y):\n",
        "        print('.', end='')\n",
        "        self.training(x_batch, y_batch)\n",
        "        batch_losses.append(self.get_loss(x_batch, y_batch))\n",
        "      print()\n",
        "      self.losses.append(np.mean(batch_losses))\n",
        "      self.val_losses.append(self.get_loss(x_val, y_val))\n",
        "  \n",
        "  def gen_batch(self, x, y):\n",
        "    bins = len(x) // self.batch_size\n",
        "    indexes = np.random.permutation(np.arange(len(x)))\n",
        "    x = x[indexes]\n",
        "    y = y[indexes]\n",
        "    for i in range(bins):\n",
        "      start = self.batch_size * i\n",
        "      end = self.batch_size * (i + 1)\n",
        "      yield x[start:end], y[start:end]\n",
        "  \n",
        "  def training(self, x, y):\n",
        "    m = len(x)\n",
        "    with tf.GradientTape() as tape:\n",
        "      z = self.forpass(x)\n",
        "      loss = tf.nn.softmax_cross_entropy_with_logits(y, z)\n",
        "      loss = tf.reduce_mean(loss)\n",
        "    \n",
        "    weight_list = [self.conv_w, self.conv_b,\n",
        "                   self.w1, self.b1, self.w2, self.b2]\n",
        "    grads = tape.gradient(loss, weight_list)\n",
        "    self.optimizer.apply_gradients(zip(grads, weight_list))\n",
        "  \n",
        "  def predict(self, x):\n",
        "    z = self.forpass(x)\n",
        "    return np.argmax(z.numpy(), axis=1)\n",
        "  \n",
        "  def score(self, x, y):\n",
        "    return np.mean(self.predict(x) == np.argmax(y, axis=1))\n",
        "  \n",
        "  def get_loss(self, x, y):\n",
        "    z = self.forpass(x)\n",
        "    loss = tf.reduce_mean(tf.nn.softmax_cross_entropy_with_logits(y, z))\n",
        "    return loss.numpy()"
      ],
      "execution_count": null,
      "outputs": []
    },
    {
      "cell_type": "code",
      "metadata": {
        "id": "nPs7vipzesjD"
      },
      "source": [
        ""
      ],
      "execution_count": null,
      "outputs": []
    },
    {
      "cell_type": "code",
      "metadata": {
        "id": "jfCG_3ShvUlx",
        "colab": {
          "base_uri": "https://localhost:8080/"
        },
        "outputId": "9f60a493-db95-4a7e-f45b-9af4011beef1"
      },
      "source": [
        "cn = ConvolutionNetwork(n_kernels=10, units=100, batch_size=128, learning_rate=0.01)\n",
        "cn.fit(x_train, y_train_encoded, x_val=x_val, y_val=y_val_encoded, epochs=20)"
      ],
      "execution_count": null,
      "outputs": [
        {
          "output_type": "stream",
          "text": [
            "eopoch 0 .......................................................................................................................................................................................................................................................................................................................................................................................\n",
            "eopoch 1 .......................................................................................................................................................................................................................................................................................................................................................................................\n",
            "eopoch 2 .......................................................................................................................................................................................................................................................................................................................................................................................\n",
            "eopoch 3 .......................................................................................................................................................................................................................................................................................................................................................................................\n",
            "eopoch 4 .......................................................................................................................................................................................................................................................................................................................................................................................\n",
            "eopoch 5 .......................................................................................................................................................................................................................................................................................................................................................................................\n",
            "eopoch 6 .......................................................................................................................................................................................................................................................................................................................................................................................\n",
            "eopoch 7 .......................................................................................................................................................................................................................................................................................................................................................................................\n",
            "eopoch 8 .......................................................................................................................................................................................................................................................................................................................................................................................\n",
            "eopoch 9 .......................................................................................................................................................................................................................................................................................................................................................................................\n",
            "eopoch 10 .......................................................................................................................................................................................................................................................................................................................................................................................\n",
            "eopoch 11 .......................................................................................................................................................................................................................................................................................................................................................................................\n",
            "eopoch 12 .......................................................................................................................................................................................................................................................................................................................................................................................\n",
            "eopoch 13 .......................................................................................................................................................................................................................................................................................................................................................................................\n",
            "eopoch 14 .......................................................................................................................................................................................................................................................................................................................................................................................\n",
            "eopoch 15 .......................................................................................................................................................................................................................................................................................................................................................................................\n",
            "eopoch 16 .......................................................................................................................................................................................................................................................................................................................................................................................\n",
            "eopoch 17 .......................................................................................................................................................................................................................................................................................................................................................................................\n",
            "eopoch 18 .......................................................................................................................................................................................................................................................................................................................................................................................\n",
            "eopoch 19 .......................................................................................................................................................................................................................................................................................................................................................................................\n"
          ],
          "name": "stdout"
        }
      ]
    },
    {
      "cell_type": "code",
      "metadata": {
        "id": "GwQ2yKuEeTvY",
        "colab": {
          "base_uri": "https://localhost:8080/",
          "height": 279
        },
        "outputId": "eda1482f-eef8-40a6-a4f4-c4037fb60f40"
      },
      "source": [
        "import matplotlib.pyplot as plt\n",
        "\n",
        "plt.plot(cn.losses)\n",
        "plt.plot(cn.val_losses)\n",
        "plt.ylabel('loss')\n",
        "plt.xlabel('iteration')\n",
        "plt.legend(['train_loss', 'val_loss'])\n",
        "plt.show()"
      ],
      "execution_count": null,
      "outputs": [
        {
          "output_type": "display_data",
          "data": {
            "image/png": "[encoded data removed]",
            "text/plain": [
              "<Figure size 432x288 with 1 Axes>"
            ]
          },
          "metadata": {
            "tags": [],
            "needs_background": "light"
          }
        }
      ]
    },
    {
      "cell_type": "code",
      "metadata": {
        "id": "XdeiyUtJwHx2",
        "colab": {
          "base_uri": "https://localhost:8080/"
        },
        "outputId": "d18b7384-aa87-431f-99f3-1ea7e4fa605c"
      },
      "source": [
        "cn.score(x_val, y_val_encoded)"
      ],
      "execution_count": null,
      "outputs": [
        {
          "output_type": "execute_result",
          "data": {
            "text/plain": [
              "0.8665"
            ]
          },
          "metadata": {
            "tags": []
          },
          "execution_count": 42
        }
      ]
    },
    {
      "cell_type": "markdown",
      "metadata": {
        "id": "AfCDHWTS3asi"
      },
      "source": [
        "## 케라스로 구현"
      ]
    },
    {
      "cell_type": "code",
      "metadata": {
        "id": "EyhgBUe4wNAf"
      },
      "source": [
        "import numpy as np\n",
        "import tensorflow as tf\n",
        "from tensorflow.keras.layers import Conv2D, MaxPooling2D, Flatten, Dense, Dropout\n",
        "\n",
        "\n",
        "conv1 = tf.keras.Sequential()\n",
        "conv1.add(Conv2D(10, (3, 3), activation='relu', padding='same', input_shape=(28, 28, 1)))\n",
        "conv1.add(MaxPooling2D((2, 2)))\n",
        "conv1.add(Flatten())\n",
        "conv1.add(Dropout(0.5))\n",
        "conv1.add(Dense(100, activation='relu'))\n",
        "conv1.add(Dense(10, activation='softmax'))"
      ],
      "execution_count": 14,
      "outputs": []
    },
    {
      "cell_type": "code",
      "metadata": {
        "colab": {
          "base_uri": "https://localhost:8080/"
        },
        "id": "3xVezYsB4auI",
        "outputId": "ba4dbc42-5944-403a-e4aa-87f391b8f185"
      },
      "source": [
        "conv1.summary()"
      ],
      "execution_count": 15,
      "outputs": [
        {
          "output_type": "stream",
          "text": [
            "Model: \"sequential_2\"\n",
            "_________________________________________________________________\n",
            "Layer (type)                 Output Shape              Param #   \n",
            "=================================================================\n",
            "conv2d_2 (Conv2D)            (None, 28, 28, 10)        100       \n",
            "_________________________________________________________________\n",
            "max_pooling2d_1 (MaxPooling2 (None, 14, 14, 10)        0         \n",
            "_________________________________________________________________\n",
            "flatten_1 (Flatten)          (None, 1960)              0         \n",
            "_________________________________________________________________\n",
            "dropout (Dropout)            (None, 1960)              0         \n",
            "_________________________________________________________________\n",
            "dense_2 (Dense)              (None, 100)               196100    \n",
            "_________________________________________________________________\n",
            "dense_3 (Dense)              (None, 10)                1010      \n",
            "=================================================================\n",
            "Total params: 197,210\n",
            "Trainable params: 197,210\n",
            "Non-trainable params: 0\n",
            "_________________________________________________________________\n"
          ],
          "name": "stdout"
        }
      ]
    },
    {
      "cell_type": "code",
      "metadata": {
        "id": "tzdktRM34pqu"
      },
      "source": [
        "conv1.compile(optimizer='adam', loss='categorical_crossentropy', metrics=['accuracy'])"
      ],
      "execution_count": 16,
      "outputs": []
    },
    {
      "cell_type": "code",
      "metadata": {
        "colab": {
          "base_uri": "https://localhost:8080/"
        },
        "id": "FaT3J76O54Wl",
        "outputId": "01114860-1d60-4142-ba37-03c9961d06c6"
      },
      "source": [
        "history = conv1.fit(x_train, y_train_encoded, epochs=20, validation_data=\n",
        "                                                        (x_val, y_val_encoded))\n"
      ],
      "execution_count": 17,
      "outputs": [
        {
          "output_type": "stream",
          "text": [
            "Epoch 1/20\n",
            "1500/1500 [==============================] - 21s 14ms/step - loss: 0.6865 - accuracy: 0.7545 - val_loss: 0.3642 - val_accuracy: 0.8692\n",
            "Epoch 2/20\n",
            "1500/1500 [==============================] - 21s 14ms/step - loss: 0.3821 - accuracy: 0.8586 - val_loss: 0.3118 - val_accuracy: 0.8881\n",
            "Epoch 3/20\n",
            "1500/1500 [==============================] - 21s 14ms/step - loss: 0.3357 - accuracy: 0.8754 - val_loss: 0.2915 - val_accuracy: 0.8946\n",
            "Epoch 4/20\n",
            "1500/1500 [==============================] - 21s 14ms/step - loss: 0.3110 - accuracy: 0.8852 - val_loss: 0.2729 - val_accuracy: 0.9021\n",
            "Epoch 5/20\n",
            "1500/1500 [==============================] - 21s 14ms/step - loss: 0.2857 - accuracy: 0.8926 - val_loss: 0.2607 - val_accuracy: 0.9072\n",
            "Epoch 6/20\n",
            "1500/1500 [==============================] - 21s 14ms/step - loss: 0.2710 - accuracy: 0.8981 - val_loss: 0.2475 - val_accuracy: 0.9115\n",
            "Epoch 7/20\n",
            "1500/1500 [==============================] - 21s 14ms/step - loss: 0.2610 - accuracy: 0.9015 - val_loss: 0.2429 - val_accuracy: 0.9102\n",
            "Epoch 8/20\n",
            "1500/1500 [==============================] - 21s 14ms/step - loss: 0.2464 - accuracy: 0.9088 - val_loss: 0.2420 - val_accuracy: 0.9132\n",
            "Epoch 9/20\n",
            "1500/1500 [==============================] - 21s 14ms/step - loss: 0.2281 - accuracy: 0.9142 - val_loss: 0.2329 - val_accuracy: 0.9152\n",
            "Epoch 10/20\n",
            "1500/1500 [==============================] - 21s 14ms/step - loss: 0.2253 - accuracy: 0.9141 - val_loss: 0.2385 - val_accuracy: 0.9119\n",
            "Epoch 11/20\n",
            "1500/1500 [==============================] - 20s 14ms/step - loss: 0.2175 - accuracy: 0.9179 - val_loss: 0.2320 - val_accuracy: 0.9179\n",
            "Epoch 12/20\n",
            "1500/1500 [==============================] - 20s 14ms/step - loss: 0.2144 - accuracy: 0.9161 - val_loss: 0.2288 - val_accuracy: 0.9198\n",
            "Epoch 13/20\n",
            "1500/1500 [==============================] - 20s 14ms/step - loss: 0.2003 - accuracy: 0.9231 - val_loss: 0.2358 - val_accuracy: 0.9159\n",
            "Epoch 14/20\n",
            "1500/1500 [==============================] - 20s 14ms/step - loss: 0.2024 - accuracy: 0.9225 - val_loss: 0.2357 - val_accuracy: 0.9162\n",
            "Epoch 15/20\n",
            "1500/1500 [==============================] - 20s 14ms/step - loss: 0.2008 - accuracy: 0.9251 - val_loss: 0.2286 - val_accuracy: 0.9197\n",
            "Epoch 16/20\n",
            "1500/1500 [==============================] - 21s 14ms/step - loss: 0.1899 - accuracy: 0.9280 - val_loss: 0.2254 - val_accuracy: 0.9225\n",
            "Epoch 17/20\n",
            "1500/1500 [==============================] - 21s 14ms/step - loss: 0.1875 - accuracy: 0.9280 - val_loss: 0.2292 - val_accuracy: 0.9175\n",
            "Epoch 18/20\n",
            "1500/1500 [==============================] - 21s 14ms/step - loss: 0.1827 - accuracy: 0.9299 - val_loss: 0.2287 - val_accuracy: 0.9196\n",
            "Epoch 19/20\n",
            "1500/1500 [==============================] - 21s 14ms/step - loss: 0.1743 - accuracy: 0.9325 - val_loss: 0.2336 - val_accuracy: 0.9212\n",
            "Epoch 20/20\n",
            "1500/1500 [==============================] - 21s 14ms/step - loss: 0.1749 - accuracy: 0.9326 - val_loss: 0.2345 - val_accuracy: 0.9198\n"
          ],
          "name": "stdout"
        }
      ]
    },
    {
      "cell_type": "code",
      "metadata": {
        "colab": {
          "base_uri": "https://localhost:8080/",
          "height": 279
        },
        "id": "N718Edn56O0D",
        "outputId": "11906c01-f046-4bc7-b990-518c73bba664"
      },
      "source": [
        "import matplotlib.pyplot as plt\n",
        "\n",
        "plt.plot(history.history['loss'])\n",
        "plt.plot(history.history['val_loss'])\n",
        "plt.ylabel('loss')\n",
        "plt.xlabel('epoch')\n",
        "plt.legend(['train_accurtacy', 'val_accuracy'])\n",
        "plt.show()"
      ],
      "execution_count": 18,
      "outputs": [
        {
          "output_type": "display_data",
          "data": {
            "image/png": "[encoded data removed]",
            "text/plain": [
              "<Figure size 432x288 with 1 Axes>"
            ]
          },
          "metadata": {
            "tags": [],
            "needs_background": "light"
          }
        }
      ]
    },
    {
      "cell_type": "code",
      "metadata": {
        "colab": {
          "base_uri": "https://localhost:8080/",
          "height": 279
        },
        "id": "Vr4oUBusFQYJ",
        "outputId": "a58d123b-abbe-4326-94e7-3166ad6ce973"
      },
      "source": [
        "plt.plot(history.history['accuracy'])\n",
        "plt.plot(history.history['val_accuracy'])\n",
        "plt.ylabel('loss')\n",
        "plt.xlabel('epoch')\n",
        "plt.legend(['train_accuray', 'val_accuracy'])\n",
        "plt.show()"
      ],
      "execution_count": 19,
      "outputs": [
        {
          "output_type": "display_data",
          "data": {
            "image/png": "[encoded data removed]",
            "text/plain": [
              "<Figure size 432x288 with 1 Axes>"
            ]
          },
          "metadata": {
            "tags": [],
            "needs_background": "light"
          }
        }
      ]
    },
    {
      "cell_type": "code",
      "metadata": {
        "id": "KiAXoM8TP1Cu"
      },
      "source": [
        ""
      ],
      "execution_count": null,
      "outputs": []
    }
  ]
}
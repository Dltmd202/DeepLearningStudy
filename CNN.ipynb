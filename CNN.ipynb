{
  "nbformat": 4,
  "nbformat_minor": 0,
  "metadata": {
    "colab": {
      "name": "CNN.ipynb",
      "provenance": [],
      "authorship_tag": "ABX9TyPC4fBi6ZQ0sucwFCZG5OBd",
      "include_colab_link": true
    },
    "kernelspec": {
      "name": "python3",
      "display_name": "Python 3"
    }
  },
  "cells": [
    {
      "cell_type": "markdown",
      "metadata": {
        "id": "view-in-github",
        "colab_type": "text"
      },
      "source": [
        "<a href=\"https://colab.research.google.com/github/Dltmd202/DeepLearningStudy/blob/main/CNN.ipynb\" target=\"_parent\"><img src=\"https://colab.research.google.com/assets/colab-badge.svg\" alt=\"Open In Colab\"/></a>"
      ]
    },
    {
      "cell_type": "code",
      "metadata": {
        "id": "7igfOSUseZ2E"
      },
      "source": [
        "import numpy as np\n",
        "from scipy.signal import convolve, correlate\n",
        "import tensorflow as tf\n",
        "from sklearn.model_selection import train_test_split\n",
        "\n",
        "(x_train_all, y_train_all), (x_test, y_test) = tf.keras.datasets.fashion_mnist.load_data()\n",
        "x_train, x_val, y_train, y_val = train_test_split(x_train_all, y_train_all,\n",
        "                                                  stratify=y_train_all, test_size=0.2,\n",
        "                                                  random_state=42)\n",
        "y_train_encoded = tf.keras.utils.to_categorical(y_train)\n",
        "y_val_encoded = tf.keras.utils.to_categorical(y_val)\n",
        "x_train = x_train.reshape(-1, 28, 28, 1)\n",
        "x_val = x_val.reshape(-1, 28, 28, 1)\n",
        "x_train = x_train / 255\n",
        "x_val = x_val / 255"
      ],
      "execution_count": 11,
      "outputs": []
    },
    {
      "cell_type": "code",
      "metadata": {
        "id": "EUIFt2o4u8vr"
      },
      "source": [
        "class ConvolutionNetwork:\n",
        "\n",
        "  def __init__(self, n_kernels=10, units=10, batch_size=32, learning_rate=0.1):\n",
        "    self.n_kernels = n_kernels\n",
        "    self.kernel_size = 3\n",
        "    self.optimizer = None\n",
        "    self.conv_w = None\n",
        "    self.conv_b = None\n",
        "    self.units = units\n",
        "    self.batch_size = batch_size\n",
        "    self.w1 = None\n",
        "    self.b1 = None\n",
        "    self.w2 = None\n",
        "    self.b2 = None\n",
        "    self.a1 = None\n",
        "    self.losses = []\n",
        "    self.val_losses = []\n",
        "    self.lr = learning_rate\n",
        "  \n",
        "  def forpass(self, x):\n",
        "    c_out = tf.nn.conv2d(x, self.conv_w, strides=1, padding='SAME') + self.conv_b\n",
        "    r_out = tf.nn.relu(c_out)\n",
        "    p_out = tf.nn.max_pool2d(r_out, ksize=2, strides=2, padding='VALID')\n",
        "    f_out = tf.reshape(p_out, [x.shape[0], -1])\n",
        "    z1 = tf.matmul(f_out, self.w1) + self.b1\n",
        "    a1 = tf.nn.relu(z1)\n",
        "    z2 = tf.matmul(a1, self.w2) + self.b2\n",
        "    return z2\n",
        "  \n",
        "  def init_weights(self, input_shape, n_classes):\n",
        "    g = tf.initializers.glorot_uniform()\n",
        "    self.conv_w = tf.Variable(g((3, 3, 1, self.n_kernels)))\n",
        "    self.conv_b = tf.Variable(np.zeros(self.n_kernels), dtype=float)\n",
        "    n_features =14 * 14 * self.n_kernels\n",
        "    self.w1 = tf.Variable(g((n_features, self.units)))\n",
        "    self.b1 = tf.Variable(np.zeros(self.units), dtype=float)\n",
        "    self.w2 = tf.Variable(g((self.units, n_classes)))\n",
        "    self.b2 = tf.Variable(np.zeros(n_classes), dtype=float)\n",
        "  \n",
        "  def fit(self, x, y, epochs=100, x_val=None, y_val=None):\n",
        "    self.init_weights(x.shape, y.shape[1])\n",
        "    self.optimizer = tf.optimizers.SGD(learning_rate=self.lr)\n",
        "    for i in range(epochs):\n",
        "      print('eopoch', i, end=' ')\n",
        "      batch_losses = []\n",
        "      for x_batch, y_batch in self.gen_batch(x, y):\n",
        "        print('.', end='')\n",
        "        self.training(x_batch, y_batch)\n",
        "        batch_losses.append(self.get_loss(x_batch, y_batch))\n",
        "      print()\n",
        "      self.losses.append(np.mean(batch_losses))\n",
        "      self.val_losses.append(self.get_loss(x_val, y_val))\n",
        "  \n",
        "  def gen_batch(self, x, y):\n",
        "    bins = len(x) // self.batch_size\n",
        "    indexes = np.random.permutation(np.arange(len(x)))\n",
        "    x = x[indexes]\n",
        "    y = y[indexes]\n",
        "    for i in range(bins):\n",
        "      start = self.batch_size * i\n",
        "      end = self.batch_size * (i + 1)\n",
        "      yield x[start:end], y[start:end]\n",
        "  \n",
        "  def training(self, x, y):\n",
        "    m = len(x)\n",
        "    with tf.GradientTape() as tape:\n",
        "      z = self.forpass(x)\n",
        "      loss = tf.nn.softmax_cross_entropy_with_logits(y, z)\n",
        "      loss = tf.reduce_mean(loss)\n",
        "    \n",
        "    weight_list = [self.conv_w, self.conv_b,\n",
        "                   self.w1, self.b1, self.w2, self.b2]\n",
        "    grads = tape.gradient(loss, weight_list)\n",
        "    self.optimizer.apply_gradients(zip(grads, weight_list))\n",
        "  \n",
        "  def predict(self, x):\n",
        "    z = self.forpass(x)\n",
        "    return np.argmax(z.numpy(), axis=1)\n",
        "  \n",
        "  def score(self, x, y):\n",
        "    return np.mean(self.predict(x) == np.argmax(y, axis=1))\n",
        "  \n",
        "  def get_loss(self, x, y):\n",
        "    z = self.forpass(x)\n",
        "    loss = tf.reduce_mean(tf.nn.softmax_cross_entropy_with_logits(y, z))\n",
        "    return loss.numpy()"
      ],
      "execution_count": 37,
      "outputs": []
    },
    {
      "cell_type": "code",
      "metadata": {
        "id": "nPs7vipzesjD"
      },
      "source": [
        ""
      ],
      "execution_count": 37,
      "outputs": []
    },
    {
      "cell_type": "code",
      "metadata": {
        "id": "jfCG_3ShvUlx",
        "outputId": "9f60a493-db95-4a7e-f45b-9af4011beef1",
        "colab": {
          "base_uri": "https://localhost:8080/"
        }
      },
      "source": [
        "cn = ConvolutionNetwork(n_kernels=10, units=100, batch_size=128, learning_rate=0.01)\n",
        "cn.fit(x_train, y_train_encoded, x_val=x_val, y_val=y_val_encoded, epochs=20)"
      ],
      "execution_count": 40,
      "outputs": [
        {
          "output_type": "stream",
          "text": [
            "eopoch 0 .......................................................................................................................................................................................................................................................................................................................................................................................\n",
            "eopoch 1 .......................................................................................................................................................................................................................................................................................................................................................................................\n",
            "eopoch 2 .......................................................................................................................................................................................................................................................................................................................................................................................\n",
            "eopoch 3 .......................................................................................................................................................................................................................................................................................................................................................................................\n",
            "eopoch 4 .......................................................................................................................................................................................................................................................................................................................................................................................\n",
            "eopoch 5 .......................................................................................................................................................................................................................................................................................................................................................................................\n",
            "eopoch 6 .......................................................................................................................................................................................................................................................................................................................................................................................\n",
            "eopoch 7 .......................................................................................................................................................................................................................................................................................................................................................................................\n",
            "eopoch 8 .......................................................................................................................................................................................................................................................................................................................................................................................\n",
            "eopoch 9 .......................................................................................................................................................................................................................................................................................................................................................................................\n",
            "eopoch 10 .......................................................................................................................................................................................................................................................................................................................................................................................\n",
            "eopoch 11 .......................................................................................................................................................................................................................................................................................................................................................................................\n",
            "eopoch 12 .......................................................................................................................................................................................................................................................................................................................................................................................\n",
            "eopoch 13 .......................................................................................................................................................................................................................................................................................................................................................................................\n",
            "eopoch 14 .......................................................................................................................................................................................................................................................................................................................................................................................\n",
            "eopoch 15 .......................................................................................................................................................................................................................................................................................................................................................................................\n",
            "eopoch 16 .......................................................................................................................................................................................................................................................................................................................................................................................\n",
            "eopoch 17 .......................................................................................................................................................................................................................................................................................................................................................................................\n",
            "eopoch 18 .......................................................................................................................................................................................................................................................................................................................................................................................\n",
            "eopoch 19 .......................................................................................................................................................................................................................................................................................................................................................................................\n"
          ],
          "name": "stdout"
        }
      ]
    },
    {
      "cell_type": "code",
      "metadata": {
        "id": "GwQ2yKuEeTvY",
        "outputId": "eda1482f-eef8-40a6-a4f4-c4037fb60f40",
        "colab": {
          "base_uri": "https://localhost:8080/",
          "height": 279
        }
      },
      "source": [
        "import matplotlib.pyplot as plt\n",
        "\n",
        "plt.plot(cn.losses)\n",
        "plt.plot(cn.val_losses)\n",
        "plt.ylabel('loss')\n",
        "plt.xlabel('iteration')\n",
        "plt.legend(['train_loss', 'val_loss'])\n",
        "plt.show()"
      ],
      "execution_count": 41,
      "outputs": [
        {
          "output_type": "display_data",
          "data": {
            "image/png": "[encoded data removed]",
            "text/plain": [
              "<Figure size 432x288 with 1 Axes>"
            ]
          },
          "metadata": {
            "tags": [],
            "needs_background": "light"
          }
        }
      ]
    },
    {
      "cell_type": "code",
      "metadata": {
        "id": "XdeiyUtJwHx2",
        "outputId": "d18b7384-aa87-431f-99f3-1ea7e4fa605c",
        "colab": {
          "base_uri": "https://localhost:8080/"
        }
      },
      "source": [
        "cn.score(x_val, y_val_encoded)"
      ],
      "execution_count": 42,
      "outputs": [
        {
          "output_type": "execute_result",
          "data": {
            "text/plain": [
              "0.8665"
            ]
          },
          "metadata": {
            "tags": []
          },
          "execution_count": 42
        }
      ]
    },
    {
      "cell_type": "code",
      "metadata": {
        "id": "EyhgBUe4wNAf"
      },
      "source": [
        ""
      ],
      "execution_count": null,
      "outputs": []
    }
  ]
}
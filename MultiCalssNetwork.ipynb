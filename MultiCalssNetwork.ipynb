{
  "nbformat": 4,
  "nbformat_minor": 0,
  "metadata": {
    "colab": {
      "name": "MultiCalssNetwork",
      "provenance": [],
      "authorship_tag": "ABX9TyMUPqhRLt4wtH4jRLzAq0ku",
      "include_colab_link": true
    },
    "kernelspec": {
      "name": "python3",
      "display_name": "Python 3"
    }
  },
  "cells": [
    {
      "cell_type": "markdown",
      "metadata": {
        "id": "view-in-github",
        "colab_type": "text"
      },
      "source": [
        "<a href=\"https://colab.research.google.com/github/Dltmd202/DeepLearningStudy/blob/main/MultiCalssNetwork.ipynb\" target=\"_parent\"><img src=\"https://colab.research.google.com/assets/colab-badge.svg\" alt=\"Open In Colab\"/></a>"
      ]
    },
    {
      "cell_type": "markdown",
      "metadata": {
        "id": "Vblz9EjSQeNW"
      },
      "source": [
        "# 다중 클래스 신경망"
      ]
    },
    {
      "cell_type": "code",
      "metadata": {
        "colab": {
          "base_uri": "https://localhost:8080/"
        },
        "id": "7ytF1t3uBfbw",
        "outputId": "9c744354-41e2-4dd5-bd37-cec6412bf870"
      },
      "source": [
        "!pip install tensorflow_gpu==2.0.0"
      ],
      "execution_count": 1,
      "outputs": [
        {
          "output_type": "stream",
          "text": [
            "Collecting tensorflow_gpu==2.0.0\n",
            "\u001b[?25l  Downloading https://files.pythonhosted.org/packages/25/44/47f0722aea081697143fbcf5d2aa60d1aee4aaacb5869aee2b568974777b/tensorflow_gpu-2.0.0-cp36-cp36m-manylinux2010_x86_64.whl (380.8MB)\n",
            "\u001b[K     |████████████████████████████████| 380.8MB 41kB/s \n",
            "\u001b[?25hRequirement already satisfied: termcolor>=1.1.0 in /usr/local/lib/python3.6/dist-packages (from tensorflow_gpu==2.0.0) (1.1.0)\n",
            "Collecting gast==0.2.2\n",
            "  Downloading https://files.pythonhosted.org/packages/4e/35/11749bf99b2d4e3cceb4d55ca22590b0d7c2c62b9de38ac4a4a7f4687421/gast-0.2.2.tar.gz\n",
            "Requirement already satisfied: numpy<2.0,>=1.16.0 in /usr/local/lib/python3.6/dist-packages (from tensorflow_gpu==2.0.0) (1.19.5)\n",
            "Requirement already satisfied: keras-preprocessing>=1.0.5 in /usr/local/lib/python3.6/dist-packages (from tensorflow_gpu==2.0.0) (1.1.2)\n",
            "Requirement already satisfied: grpcio>=1.8.6 in /usr/local/lib/python3.6/dist-packages (from tensorflow_gpu==2.0.0) (1.32.0)\n",
            "Requirement already satisfied: google-pasta>=0.1.6 in /usr/local/lib/python3.6/dist-packages (from tensorflow_gpu==2.0.0) (0.2.0)\n",
            "Requirement already satisfied: absl-py>=0.7.0 in /usr/local/lib/python3.6/dist-packages (from tensorflow_gpu==2.0.0) (0.10.0)\n",
            "Requirement already satisfied: wrapt>=1.11.1 in /usr/local/lib/python3.6/dist-packages (from tensorflow_gpu==2.0.0) (1.12.1)\n",
            "Requirement already satisfied: protobuf>=3.6.1 in /usr/local/lib/python3.6/dist-packages (from tensorflow_gpu==2.0.0) (3.12.4)\n",
            "Collecting tensorflow-estimator<2.1.0,>=2.0.0\n",
            "\u001b[?25l  Downloading https://files.pythonhosted.org/packages/fc/08/8b927337b7019c374719145d1dceba21a8bb909b93b1ad6f8fb7d22c1ca1/tensorflow_estimator-2.0.1-py2.py3-none-any.whl (449kB)\n",
            "\u001b[K     |████████████████████████████████| 450kB 47.4MB/s \n",
            "\u001b[?25hRequirement already satisfied: six>=1.10.0 in /usr/local/lib/python3.6/dist-packages (from tensorflow_gpu==2.0.0) (1.15.0)\n",
            "Collecting keras-applications>=1.0.8\n",
            "\u001b[?25l  Downloading https://files.pythonhosted.org/packages/71/e3/19762fdfc62877ae9102edf6342d71b28fbfd9dea3d2f96a882ce099b03f/Keras_Applications-1.0.8-py3-none-any.whl (50kB)\n",
            "\u001b[K     |████████████████████████████████| 51kB 4.9MB/s \n",
            "\u001b[?25hRequirement already satisfied: opt-einsum>=2.3.2 in /usr/local/lib/python3.6/dist-packages (from tensorflow_gpu==2.0.0) (3.3.0)\n",
            "Collecting tensorboard<2.1.0,>=2.0.0\n",
            "\u001b[?25l  Downloading https://files.pythonhosted.org/packages/76/54/99b9d5d52d5cb732f099baaaf7740403e83fe6b0cedde940fabd2b13d75a/tensorboard-2.0.2-py3-none-any.whl (3.8MB)\n",
            "\u001b[K     |████████████████████████████████| 3.8MB 49.5MB/s \n",
            "\u001b[?25hRequirement already satisfied: wheel>=0.26 in /usr/local/lib/python3.6/dist-packages (from tensorflow_gpu==2.0.0) (0.36.2)\n",
            "Requirement already satisfied: astor>=0.6.0 in /usr/local/lib/python3.6/dist-packages (from tensorflow_gpu==2.0.0) (0.8.1)\n",
            "Requirement already satisfied: setuptools in /usr/local/lib/python3.6/dist-packages (from protobuf>=3.6.1->tensorflow_gpu==2.0.0) (53.0.0)\n",
            "Requirement already satisfied: h5py in /usr/local/lib/python3.6/dist-packages (from keras-applications>=1.0.8->tensorflow_gpu==2.0.0) (2.10.0)\n",
            "Requirement already satisfied: markdown>=2.6.8 in /usr/local/lib/python3.6/dist-packages (from tensorboard<2.1.0,>=2.0.0->tensorflow_gpu==2.0.0) (3.3.3)\n",
            "Requirement already satisfied: google-auth-oauthlib<0.5,>=0.4.1 in /usr/local/lib/python3.6/dist-packages (from tensorboard<2.1.0,>=2.0.0->tensorflow_gpu==2.0.0) (0.4.2)\n",
            "Requirement already satisfied: werkzeug>=0.11.15 in /usr/local/lib/python3.6/dist-packages (from tensorboard<2.1.0,>=2.0.0->tensorflow_gpu==2.0.0) (1.0.1)\n",
            "Requirement already satisfied: requests<3,>=2.21.0 in /usr/local/lib/python3.6/dist-packages (from tensorboard<2.1.0,>=2.0.0->tensorflow_gpu==2.0.0) (2.23.0)\n",
            "Requirement already satisfied: google-auth<2,>=1.6.3 in /usr/local/lib/python3.6/dist-packages (from tensorboard<2.1.0,>=2.0.0->tensorflow_gpu==2.0.0) (1.25.0)\n",
            "Requirement already satisfied: importlib-metadata; python_version < \"3.8\" in /usr/local/lib/python3.6/dist-packages (from markdown>=2.6.8->tensorboard<2.1.0,>=2.0.0->tensorflow_gpu==2.0.0) (3.4.0)\n",
            "Requirement already satisfied: requests-oauthlib>=0.7.0 in /usr/local/lib/python3.6/dist-packages (from google-auth-oauthlib<0.5,>=0.4.1->tensorboard<2.1.0,>=2.0.0->tensorflow_gpu==2.0.0) (1.3.0)\n",
            "Requirement already satisfied: chardet<4,>=3.0.2 in /usr/local/lib/python3.6/dist-packages (from requests<3,>=2.21.0->tensorboard<2.1.0,>=2.0.0->tensorflow_gpu==2.0.0) (3.0.4)\n",
            "Requirement already satisfied: urllib3!=1.25.0,!=1.25.1,<1.26,>=1.21.1 in /usr/local/lib/python3.6/dist-packages (from requests<3,>=2.21.0->tensorboard<2.1.0,>=2.0.0->tensorflow_gpu==2.0.0) (1.24.3)\n",
            "Requirement already satisfied: idna<3,>=2.5 in /usr/local/lib/python3.6/dist-packages (from requests<3,>=2.21.0->tensorboard<2.1.0,>=2.0.0->tensorflow_gpu==2.0.0) (2.10)\n",
            "Requirement already satisfied: certifi>=2017.4.17 in /usr/local/lib/python3.6/dist-packages (from requests<3,>=2.21.0->tensorboard<2.1.0,>=2.0.0->tensorflow_gpu==2.0.0) (2020.12.5)\n",
            "Requirement already satisfied: pyasn1-modules>=0.2.1 in /usr/local/lib/python3.6/dist-packages (from google-auth<2,>=1.6.3->tensorboard<2.1.0,>=2.0.0->tensorflow_gpu==2.0.0) (0.2.8)\n",
            "Requirement already satisfied: cachetools<5.0,>=2.0.0 in /usr/local/lib/python3.6/dist-packages (from google-auth<2,>=1.6.3->tensorboard<2.1.0,>=2.0.0->tensorflow_gpu==2.0.0) (4.2.1)\n",
            "Requirement already satisfied: rsa<5,>=3.1.4; python_version >= \"3.6\" in /usr/local/lib/python3.6/dist-packages (from google-auth<2,>=1.6.3->tensorboard<2.1.0,>=2.0.0->tensorflow_gpu==2.0.0) (4.7)\n",
            "Requirement already satisfied: typing-extensions>=3.6.4; python_version < \"3.8\" in /usr/local/lib/python3.6/dist-packages (from importlib-metadata; python_version < \"3.8\"->markdown>=2.6.8->tensorboard<2.1.0,>=2.0.0->tensorflow_gpu==2.0.0) (3.7.4.3)\n",
            "Requirement already satisfied: zipp>=0.5 in /usr/local/lib/python3.6/dist-packages (from importlib-metadata; python_version < \"3.8\"->markdown>=2.6.8->tensorboard<2.1.0,>=2.0.0->tensorflow_gpu==2.0.0) (3.4.0)\n",
            "Requirement already satisfied: oauthlib>=3.0.0 in /usr/local/lib/python3.6/dist-packages (from requests-oauthlib>=0.7.0->google-auth-oauthlib<0.5,>=0.4.1->tensorboard<2.1.0,>=2.0.0->tensorflow_gpu==2.0.0) (3.1.0)\n",
            "Requirement already satisfied: pyasn1<0.5.0,>=0.4.6 in /usr/local/lib/python3.6/dist-packages (from pyasn1-modules>=0.2.1->google-auth<2,>=1.6.3->tensorboard<2.1.0,>=2.0.0->tensorflow_gpu==2.0.0) (0.4.8)\n",
            "Building wheels for collected packages: gast\n",
            "  Building wheel for gast (setup.py) ... \u001b[?25l\u001b[?25hdone\n",
            "  Created wheel for gast: filename=gast-0.2.2-cp36-none-any.whl size=7540 sha256=6a6057b9259835bb9321ea03b38b6dd86c4fa53d3dfb1518b58b9751fe98cead\n",
            "  Stored in directory: /root/.cache/pip/wheels/5c/2e/7e/a1d4d4fcebe6c381f378ce7743a3ced3699feb89bcfbdadadd\n",
            "Successfully built gast\n",
            "\u001b[31mERROR: tensorflow 2.4.1 has requirement gast==0.3.3, but you'll have gast 0.2.2 which is incompatible.\u001b[0m\n",
            "\u001b[31mERROR: tensorflow 2.4.1 has requirement tensorboard~=2.4, but you'll have tensorboard 2.0.2 which is incompatible.\u001b[0m\n",
            "\u001b[31mERROR: tensorflow 2.4.1 has requirement tensorflow-estimator<2.5.0,>=2.4.0, but you'll have tensorflow-estimator 2.0.1 which is incompatible.\u001b[0m\n",
            "\u001b[31mERROR: tensorflow-probability 0.12.1 has requirement gast>=0.3.2, but you'll have gast 0.2.2 which is incompatible.\u001b[0m\n",
            "Installing collected packages: gast, tensorflow-estimator, keras-applications, tensorboard, tensorflow-gpu\n",
            "  Found existing installation: gast 0.3.3\n",
            "    Uninstalling gast-0.3.3:\n",
            "      Successfully uninstalled gast-0.3.3\n",
            "  Found existing installation: tensorflow-estimator 2.4.0\n",
            "    Uninstalling tensorflow-estimator-2.4.0:\n",
            "      Successfully uninstalled tensorflow-estimator-2.4.0\n",
            "  Found existing installation: tensorboard 2.4.1\n",
            "    Uninstalling tensorboard-2.4.1:\n",
            "      Successfully uninstalled tensorboard-2.4.1\n",
            "Successfully installed gast-0.2.2 keras-applications-1.0.8 tensorboard-2.0.2 tensorflow-estimator-2.0.1 tensorflow-gpu-2.0.0\n"
          ],
          "name": "stdout"
        }
      ]
    },
    {
      "cell_type": "markdown",
      "metadata": {
        "id": "mgyqHj8mkoti"
      },
      "source": [
        ""
      ]
    },
    {
      "cell_type": "code",
      "metadata": {
        "id": "7dPWZnxvkT6f"
      },
      "source": [
        "class MultiClassNetwork:\n",
        "\n",
        "  def __init__(self, units=10, batch_size=32, learning_rate=0.1, l1=0, l2=0):\n",
        "    self.units = units\n",
        "    self.batch_size = batch_size\n",
        "    self.w1 = None\n",
        "    self.b1 = None\n",
        "    self.w2 = None\n",
        "    self.b2 = None\n",
        "    self.a1 = None\n",
        "    self.losses = []\n",
        "    self.val_losses = []\n",
        "    self.lr = learning_rate\n",
        "    self.l1 = l1\n",
        "    self.l2 = l2\n",
        "  \n",
        "  def forpass(self, x):\n",
        "    z1 = np.dot(x, self.w1) + self.b1\n",
        "    self.a1 = self.sigmoid(z1)\n",
        "    z2 = np.dot(self.a1, self.w2) + self.b2\n",
        "    return z2\n",
        "  \n",
        "  def backprop(self, x, err):\n",
        "    m = len(x)\n",
        "    w2_grad = np.dot(self.a1.T, err) / m\n",
        "    b2_grad = np.sum(err) / m\n",
        "    err_to_hidden = np.dot(err, self.w2.T) * self.a1 * (1-self.a1)\n",
        "    w1_grad = np.dot(x.T, err_to_hidden) / m\n",
        "    b1_grad = np.sum(err_to_hidden, axis=0) / m\n",
        "    return w1_grad, b1_grad, w2_grad, b2_grad\n",
        "  \n",
        "  def sigmoid(self, z):\n",
        "    a = 1 / (1 + np.exp(-z))\n",
        "    return a\n",
        "  \n",
        "  def softmax(self, z):\n",
        "    exp_z = np.exp(z)\n",
        "    return exp_z / np.sum(exp_z, axis=1).reshape(-1, 1)\n",
        "  \n",
        "  def init_weights(self, n_features, n_classes):\n",
        "    self.w1 = np.random.normal(0, 1,(n_features, self.units))\n",
        "    self.b1 = np.zeros(self.units)\n",
        "    self.w2 = np.random.normal(0, 1,(self.units, n_classes))\n",
        "    self.b2 = np.zeros(n_classes)\n",
        "  \n",
        "  def fit(self, x, y, epochs=100, x_val=None, y_val=None):\n",
        "    np.random.seed(42)\n",
        "    self.init_weights(x.shape[1], y.shape[1])\n",
        "\n",
        "    for i in range(epochs):\n",
        "      loss=0\n",
        "      print('.', end='')\n",
        "      for x_batch, y_batch in self.gen_batch(x, y):\n",
        "        a = self.training(x_batch, y_batch)\n",
        "        a = np.clip(a, 1e-10, 1-1e-10)\n",
        "        loss += np.sum(-y_batch*np.log(a))\n",
        "      self.losses.append((loss + self.reg_loss()) / len(x))\n",
        "      self.update_val_loss(x_val, y_val)\n",
        "\n",
        "  def gen_batch(self, x, y):\n",
        "    length = len(x)\n",
        "    bins = length // self.batch_size\n",
        "    if length % self.batch_size:\n",
        "      bins += 1\n",
        "    indexes = np.random.permutation(np.arange(len(x)))\n",
        "    x = x[indexes]\n",
        "    y = y[indexes]\n",
        "    for i in range(bins):\n",
        "      start = self.batch_size * i\n",
        "      end = self.batch_size * (i + 1)\n",
        "      yield x[start:end], y[start:end]\n",
        "  \n",
        "  def training(self, x, y):\n",
        "    m = len(x)\n",
        "    z = self.forpass(x)\n",
        "    a = self.softmax(z)\n",
        "    err = -(y - a)\n",
        "    w1_grad, b1_grad, w2_grad, b2_grad = self.backprop(x, err)\n",
        "    w1_grad += (self.l1 * np.sign(self.w1) + self.l2 * self.w1) / m\n",
        "    w2_grad += (self.l1 * np.sign(self.w2) + self.l2 * self.w2) / m\n",
        "    self.w1 -= self.lr * w1_grad\n",
        "    self.b1 -= self.lr * b1_grad\n",
        "    self.w2 -= self.lr * w2_grad\n",
        "    self.b2 -= self.lr * b2_grad\n",
        "    return a\n",
        "  \n",
        "  def predict(self, x):\n",
        "    z = self.forpass(x)\n",
        "    return np.argmax(z, axis=1)\n",
        "  \n",
        "  def score(self, x, y):\n",
        "    return np.mean(self.predict(x) == np.argmax(y, axis=1))\n",
        "  \n",
        "  def reg_loss(self):\n",
        "    return self.l1 * (np.sum(np.abs(self.w1)) + np.sum(np.abs(self.w2))) + \\\n",
        "          self.l2 / 2 * (np.sum(self.w1**2) + np.sum(self.w2**2))\n",
        "  \n",
        "  def update_val_loss(self, x_val, y_val):\n",
        "    z = self.forpass(x_val)\n",
        "    a = self.softmax(z)\n",
        "    a = np.clip(a, 1e-10, 1-1e-10)\n",
        "    val_loss = np.sum(-y_val*np.log(a))\n",
        "    self.val_losses.append((val_loss + self.reg_loss()) / len(y_val))\n",
        "    "
      ],
      "execution_count": 77,
      "outputs": []
    },
    {
      "cell_type": "code",
      "metadata": {
        "id": "XBwlDdVwB0F9"
      },
      "source": [
        "import tensorflow as tf\n",
        "(x_train_all, y_train_all), (x_test, y_test) = tf.keras.datasets.fashion_mnist.load_data()\n"
      ],
      "execution_count": 78,
      "outputs": []
    },
    {
      "cell_type": "code",
      "metadata": {
        "colab": {
          "base_uri": "https://localhost:8080/"
        },
        "id": "XtAKDvA8B3NE",
        "outputId": "9bce7cfe-bf5a-4322-e29b-9027c1dca3b8"
      },
      "source": [
        "print(x_train_all.shape, y_train_all.shape)"
      ],
      "execution_count": 79,
      "outputs": [
        {
          "output_type": "stream",
          "text": [
            "(60000, 28, 28) (60000,)\n"
          ],
          "name": "stdout"
        }
      ]
    },
    {
      "cell_type": "code",
      "metadata": {
        "colab": {
          "base_uri": "https://localhost:8080/",
          "height": 265
        },
        "id": "tMG5oEkdCK8m",
        "outputId": "92f68151-69b6-4fa9-9c7b-ed1decabdddd"
      },
      "source": [
        "import matplotlib.pyplot as plt\n",
        "plt.imshow(x_train_all[0], cmap='gray')\n",
        "plt.show()"
      ],
      "execution_count": 80,
      "outputs": [
        {
          "output_type": "display_data",
          "data": {
            "image/png": "[encoded data removed]",
            "text/plain": [
              "<Figure size 432x288 with 1 Axes>"
            ]
          },
          "metadata": {
            "tags": [],
            "needs_background": "light"
          }
        }
      ]
    },
    {
      "cell_type": "code",
      "metadata": {
        "id": "tV8r8qx6CfYd"
      },
      "source": [
        "class_names = ['티셔츠/윗도리', '바지', '스웨터', '드레스', '코트', '샌들'\n",
        "                '셔츠', '스니커즈', '가방', '앵클부츠']\n",
        "              "
      ],
      "execution_count": 81,
      "outputs": []
    },
    {
      "cell_type": "code",
      "metadata": {
        "id": "i7IqPvJjCxng"
      },
      "source": [
        "from sklearn.model_selection import train_test_split\n",
        "import numpy as np\n",
        "\n",
        "x_train, x_val, y_train, y_val = train_test_split(x_train_all, y_train_all,\n",
        "                          stratify=y_train_all, test_size=0.2, random_state=42)\n"
      ],
      "execution_count": 82,
      "outputs": []
    },
    {
      "cell_type": "code",
      "metadata": {
        "id": "Ag4tpmKBD6y-",
        "colab": {
          "base_uri": "https://localhost:8080/"
        },
        "outputId": "08053cdb-e079-466f-d533-b64c65cd77f0"
      },
      "source": [
        "x_train = x_train / 255\n",
        "x_val = x_val / 255\n",
        "print(x_train.shape)"
      ],
      "execution_count": 83,
      "outputs": [
        {
          "output_type": "stream",
          "text": [
            "(48000, 28, 28)\n"
          ],
          "name": "stdout"
        }
      ]
    },
    {
      "cell_type": "code",
      "metadata": {
        "colab": {
          "base_uri": "https://localhost:8080/"
        },
        "id": "EIlNlEMPX5vS",
        "outputId": "e610dbba-b348-4c41-cb55-40e3aa753c78"
      },
      "source": [
        "x_train = x_train.reshape(-1, 784)\n",
        "x_val = x_val.reshape(-1, 784)\n",
        "print(x_train.shape, x_val.shape)"
      ],
      "execution_count": 84,
      "outputs": [
        {
          "output_type": "stream",
          "text": [
            "(48000, 784) (12000, 784)\n"
          ],
          "name": "stdout"
        }
      ]
    },
    {
      "cell_type": "code",
      "metadata": {
        "colab": {
          "base_uri": "https://localhost:8080/"
        },
        "id": "DnaNvV4EcAXy",
        "outputId": "d6d69029-fe0a-45db-c014-c09884a37e0a"
      },
      "source": [
        "y_train_encoded = tf.keras.utils.to_categorical(y_train)\n",
        "y_val_encoded = tf.keras.utils.to_categorical(y_val)\n",
        "print(y_train_encoded.shape, y_val_encoded.shape)"
      ],
      "execution_count": 85,
      "outputs": [
        {
          "output_type": "stream",
          "text": [
            "(48000, 10) (12000, 10)\n"
          ],
          "name": "stdout"
        }
      ]
    },
    {
      "cell_type": "code",
      "metadata": {
        "colab": {
          "base_uri": "https://localhost:8080/"
        },
        "id": "oJH8C-epdMa-",
        "outputId": "7bc8f5b0-074c-4294-9891-cd0424cfd988"
      },
      "source": [
        "fc = MultiClassNetwork(units=100, batch_size=256)\n",
        "fc.fit(x_train, y_train_encoded,\n",
        "       x_val=x_val, y_val=y_val_encoded, epochs=40)"
      ],
      "execution_count": 86,
      "outputs": [
        {
          "output_type": "stream",
          "text": [
            "........................................"
          ],
          "name": "stdout"
        }
      ]
    },
    {
      "cell_type": "code",
      "metadata": {
        "colab": {
          "base_uri": "https://localhost:8080/",
          "height": 279
        },
        "id": "Kvg25GfGeEZC",
        "outputId": "0cee39b9-0f07-4086-ed6b-397e6a9b1a40"
      },
      "source": [
        "plt.plot(fc.losses)\n",
        "plt.plot(fc.val_losses)\n",
        "plt.ylabel('loss')\n",
        "plt.xlabel('iteration')\n",
        "plt.legend(['train_loss', 'val_loss'])\n",
        "plt.show()"
      ],
      "execution_count": 88,
      "outputs": [
        {
          "output_type": "display_data",
          "data": {
            "image/png": "[encoded data removed]",
            "text/plain": [
              "<Figure size 432x288 with 1 Axes>"
            ]
          },
          "metadata": {
            "tags": [],
            "needs_background": "light"
          }
        }
      ]
    },
    {
      "cell_type": "code",
      "metadata": {
        "colab": {
          "base_uri": "https://localhost:8080/"
        },
        "id": "0gWLoMpRsu7l",
        "outputId": "413c2419-af64-4f63-b146-d0aae2410045"
      },
      "source": [
        "fc.score(x_val, y_val_encoded)"
      ],
      "execution_count": 89,
      "outputs": [
        {
          "output_type": "execute_result",
          "data": {
            "text/plain": [
              "0.8150833333333334"
            ]
          },
          "metadata": {
            "tags": []
          },
          "execution_count": 89
        }
      ]
    },
    {
      "cell_type": "markdown",
      "metadata": {
        "id": "axIk4obsckO4"
      },
      "source": [
        "# 케라스로 구현"
      ]
    },
    {
      "cell_type": "code",
      "metadata": {
        "id": "iGYIelY8SBpp"
      },
      "source": [
        "from tensorflow.keras import Sequential\n",
        "from tensorflow.keras.layers import Dense\n",
        "\n",
        "model = Sequential()\n",
        "model.add(Dense(100, activation='sigmoid', input_shape=(784,)))\n",
        "model.add(Dense(10, activation='softmax'))\n",
        "model.compile(optimizer='sgd', loss='categorical_crossentropy', metrics=['accuracy'])"
      ],
      "execution_count": 100,
      "outputs": []
    },
    {
      "cell_type": "code",
      "metadata": {
        "colab": {
          "base_uri": "https://localhost:8080/"
        },
        "id": "-ucSZelzYCYf",
        "outputId": "af5e49a8-abbd-4afc-f60b-cea39e3d4eaf"
      },
      "source": [
        "history = model.fit(x_train, y_train_encoded, epochs=40,\n",
        "                    validation_data=(x_val, y_val_encoded))"
      ],
      "execution_count": 102,
      "outputs": [
        {
          "output_type": "stream",
          "text": [
            "Train on 48000 samples, validate on 12000 samples\n",
            "Epoch 1/40\n",
            "48000/48000 [==============================] - 5s 104us/sample - loss: 1.3950 - accuracy: 0.6359 - val_loss: 0.9738 - val_accuracy: 0.7190\n",
            "Epoch 2/40\n",
            "48000/48000 [==============================] - 4s 89us/sample - loss: 0.8502 - accuracy: 0.7446 - val_loss: 0.7580 - val_accuracy: 0.7558\n",
            "Epoch 3/40\n",
            "48000/48000 [==============================] - 4s 87us/sample - loss: 0.7166 - accuracy: 0.7662 - val_loss: 0.6683 - val_accuracy: 0.7794\n",
            "Epoch 4/40\n",
            "48000/48000 [==============================] - 4s 87us/sample - loss: 0.6500 - accuracy: 0.7802 - val_loss: 0.6184 - val_accuracy: 0.7885\n",
            "Epoch 5/40\n",
            "48000/48000 [==============================] - 4s 89us/sample - loss: 0.6074 - accuracy: 0.7921 - val_loss: 0.5799 - val_accuracy: 0.8020\n",
            "Epoch 6/40\n",
            "48000/48000 [==============================] - 4s 89us/sample - loss: 0.5766 - accuracy: 0.8039 - val_loss: 0.5526 - val_accuracy: 0.8101\n",
            "Epoch 7/40\n",
            "48000/48000 [==============================] - 4s 89us/sample - loss: 0.5533 - accuracy: 0.8106 - val_loss: 0.5314 - val_accuracy: 0.8170\n",
            "Epoch 8/40\n",
            "48000/48000 [==============================] - 4s 88us/sample - loss: 0.5347 - accuracy: 0.8168 - val_loss: 0.5158 - val_accuracy: 0.8198\n",
            "Epoch 9/40\n",
            "48000/48000 [==============================] - 4s 87us/sample - loss: 0.5198 - accuracy: 0.8211 - val_loss: 0.5019 - val_accuracy: 0.8247\n",
            "Epoch 10/40\n",
            "48000/48000 [==============================] - 4s 87us/sample - loss: 0.5077 - accuracy: 0.8245 - val_loss: 0.4908 - val_accuracy: 0.8298\n",
            "Epoch 11/40\n",
            "48000/48000 [==============================] - 4s 86us/sample - loss: 0.4972 - accuracy: 0.8282 - val_loss: 0.4807 - val_accuracy: 0.8348\n",
            "Epoch 12/40\n",
            "48000/48000 [==============================] - 4s 88us/sample - loss: 0.4882 - accuracy: 0.8304 - val_loss: 0.4727 - val_accuracy: 0.8353\n",
            "Epoch 13/40\n",
            "48000/48000 [==============================] - 4s 87us/sample - loss: 0.4803 - accuracy: 0.8332 - val_loss: 0.4651 - val_accuracy: 0.8376\n",
            "Epoch 14/40\n",
            "48000/48000 [==============================] - 4s 87us/sample - loss: 0.4732 - accuracy: 0.8354 - val_loss: 0.4592 - val_accuracy: 0.8379\n",
            "Epoch 15/40\n",
            "48000/48000 [==============================] - 4s 87us/sample - loss: 0.4668 - accuracy: 0.8379 - val_loss: 0.4530 - val_accuracy: 0.8410\n",
            "Epoch 16/40\n",
            "48000/48000 [==============================] - 4s 88us/sample - loss: 0.4611 - accuracy: 0.8391 - val_loss: 0.4484 - val_accuracy: 0.8442\n",
            "Epoch 17/40\n",
            "48000/48000 [==============================] - 4s 87us/sample - loss: 0.4557 - accuracy: 0.8413 - val_loss: 0.4441 - val_accuracy: 0.8422\n",
            "Epoch 18/40\n",
            "48000/48000 [==============================] - 4s 87us/sample - loss: 0.4508 - accuracy: 0.8429 - val_loss: 0.4394 - val_accuracy: 0.8446\n",
            "Epoch 19/40\n",
            "48000/48000 [==============================] - 4s 87us/sample - loss: 0.4465 - accuracy: 0.8443 - val_loss: 0.4351 - val_accuracy: 0.8478\n",
            "Epoch 20/40\n",
            "48000/48000 [==============================] - 4s 86us/sample - loss: 0.4424 - accuracy: 0.8457 - val_loss: 0.4326 - val_accuracy: 0.8471\n",
            "Epoch 21/40\n",
            "48000/48000 [==============================] - 4s 91us/sample - loss: 0.4386 - accuracy: 0.8467 - val_loss: 0.4277 - val_accuracy: 0.8490\n",
            "Epoch 22/40\n",
            "48000/48000 [==============================] - 4s 88us/sample - loss: 0.4350 - accuracy: 0.8479 - val_loss: 0.4256 - val_accuracy: 0.8508\n",
            "Epoch 23/40\n",
            "48000/48000 [==============================] - 4s 88us/sample - loss: 0.4315 - accuracy: 0.8489 - val_loss: 0.4223 - val_accuracy: 0.8523\n",
            "Epoch 24/40\n",
            "48000/48000 [==============================] - 4s 87us/sample - loss: 0.4282 - accuracy: 0.8496 - val_loss: 0.4187 - val_accuracy: 0.8535\n",
            "Epoch 25/40\n",
            "48000/48000 [==============================] - 4s 88us/sample - loss: 0.4251 - accuracy: 0.8505 - val_loss: 0.4168 - val_accuracy: 0.8552\n",
            "Epoch 26/40\n",
            "48000/48000 [==============================] - 4s 88us/sample - loss: 0.4220 - accuracy: 0.8528 - val_loss: 0.4132 - val_accuracy: 0.8560\n",
            "Epoch 27/40\n",
            "48000/48000 [==============================] - 4s 89us/sample - loss: 0.4192 - accuracy: 0.8535 - val_loss: 0.4109 - val_accuracy: 0.8572\n",
            "Epoch 28/40\n",
            "48000/48000 [==============================] - 4s 90us/sample - loss: 0.4166 - accuracy: 0.8539 - val_loss: 0.4088 - val_accuracy: 0.8562\n",
            "Epoch 29/40\n",
            "48000/48000 [==============================] - 4s 89us/sample - loss: 0.4139 - accuracy: 0.8549 - val_loss: 0.4083 - val_accuracy: 0.8577\n",
            "Epoch 30/40\n",
            "48000/48000 [==============================] - 4s 89us/sample - loss: 0.4114 - accuracy: 0.8557 - val_loss: 0.4061 - val_accuracy: 0.8583\n",
            "Epoch 31/40\n",
            "48000/48000 [==============================] - 4s 87us/sample - loss: 0.4091 - accuracy: 0.8561 - val_loss: 0.4030 - val_accuracy: 0.8592\n",
            "Epoch 32/40\n",
            "48000/48000 [==============================] - 4s 89us/sample - loss: 0.4068 - accuracy: 0.8569 - val_loss: 0.4006 - val_accuracy: 0.8594\n",
            "Epoch 33/40\n",
            "48000/48000 [==============================] - 4s 88us/sample - loss: 0.4046 - accuracy: 0.8576 - val_loss: 0.4005 - val_accuracy: 0.8606\n",
            "Epoch 34/40\n",
            "48000/48000 [==============================] - 4s 90us/sample - loss: 0.4026 - accuracy: 0.8576 - val_loss: 0.3975 - val_accuracy: 0.8612\n",
            "Epoch 35/40\n",
            "48000/48000 [==============================] - 4s 87us/sample - loss: 0.4003 - accuracy: 0.8590 - val_loss: 0.3963 - val_accuracy: 0.8597\n",
            "Epoch 36/40\n",
            "48000/48000 [==============================] - 4s 89us/sample - loss: 0.3984 - accuracy: 0.8598 - val_loss: 0.3948 - val_accuracy: 0.8611\n",
            "Epoch 37/40\n",
            "48000/48000 [==============================] - 4s 90us/sample - loss: 0.3966 - accuracy: 0.8602 - val_loss: 0.3930 - val_accuracy: 0.8614\n",
            "Epoch 38/40\n",
            "48000/48000 [==============================] - 4s 88us/sample - loss: 0.3943 - accuracy: 0.8611 - val_loss: 0.3943 - val_accuracy: 0.8604\n",
            "Epoch 39/40\n",
            "48000/48000 [==============================] - 4s 90us/sample - loss: 0.3928 - accuracy: 0.8611 - val_loss: 0.3904 - val_accuracy: 0.8626\n",
            "Epoch 40/40\n",
            "48000/48000 [==============================] - 4s 88us/sample - loss: 0.3909 - accuracy: 0.8620 - val_loss: 0.3905 - val_accuracy: 0.8621\n"
          ],
          "name": "stdout"
        }
      ]
    },
    {
      "cell_type": "code",
      "metadata": {
        "colab": {
          "base_uri": "https://localhost:8080/",
          "height": 279
        },
        "id": "Faezq5t-ZRqz",
        "outputId": "82419ee0-0967-4c2d-d809-9e72d2596704"
      },
      "source": [
        "plt.plot(history.history['loss'])\n",
        "plt.plot(history.history['val_loss'])\n",
        "plt.ylabel('loss')\n",
        "plt.xlabel('epoch')\n",
        "plt.legend(['train_loss', 'val_loss'])\n",
        "plt.show()"
      ],
      "execution_count": 103,
      "outputs": [
        {
          "output_type": "display_data",
          "data": {
            "image/png": "[encoded data removed]",
            "text/plain": [
              "<Figure size 432x288 with 1 Axes>"
            ]
          },
          "metadata": {
            "tags": [],
            "needs_background": "light"
          }
        }
      ]
    },
    {
      "cell_type": "code",
      "metadata": {
        "colab": {
          "base_uri": "https://localhost:8080/",
          "height": 279
        },
        "id": "tG3Yec9va61t",
        "outputId": "d2074410-87b9-4bca-f65d-f8a6d807996f"
      },
      "source": [
        "plt.plot(history.history['accuracy'])\n",
        "plt.plot(history.history['val_accuracy'])\n",
        "plt.ylabel('accuracy')\n",
        "plt.xlabel('epoch')\n",
        "plt.legend(['train_accuracy', 'val_accuracy'])\n",
        "plt.show()"
      ],
      "execution_count": 104,
      "outputs": [
        {
          "output_type": "display_data",
          "data": {
            "image/png": "[encoded data removed]",
            "text/plain": [
              "<Figure size 432x288 with 1 Axes>"
            ]
          },
          "metadata": {
            "tags": [],
            "needs_background": "light"
          }
        }
      ]
    },
    {
      "cell_type": "code",
      "metadata": {
        "colab": {
          "base_uri": "https://localhost:8080/"
        },
        "id": "nAsi1VYwbff-",
        "outputId": "40e7cd23-7ee9-4e9d-e3ed-e3c450770e3a"
      },
      "source": [
        "loss, accuracy = model.evaluate(x_val, y_val_encoded, verbose=0)\n",
        "print(accuracy)"
      ],
      "execution_count": 105,
      "outputs": [
        {
          "output_type": "stream",
          "text": [
            "0.8620833\n"
          ],
          "name": "stdout"
        }
      ]
    },
    {
      "cell_type": "code",
      "metadata": {
        "id": "D2r9sHiDb2ZH"
      },
      "source": [
        ""
      ],
      "execution_count": null,
      "outputs": []
    }
  ]
}
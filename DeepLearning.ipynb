{
  "nbformat": 4,
  "nbformat_minor": 0,
  "metadata": {
    "colab": {
      "name": "DeepLearning",
      "provenance": [],
      "collapsed_sections": [],
      "toc_visible": true,
      "include_colab_link": true
    },
    "kernelspec": {
      "display_name": "Python 3",
      "name": "python3"
    }
  },
  "cells": [
    {
      "cell_type": "markdown",
      "metadata": {
        "id": "view-in-github",
        "colab_type": "text"
      },
      "source": [
        "<a href=\"https://colab.research.google.com/github/Dltmd202/DeepLearningStudy/blob/main/DeepLearning.ipynb\" target=\"_parent\"><img src=\"https://colab.research.google.com/assets/colab-badge.svg\" alt=\"Open In Colab\"/></a>"
      ]
    },
    {
      "cell_type": "markdown",
      "metadata": {
        "id": "PeX3x_0iH48V"
      },
      "source": [
        "# 딥러닝"
      ]
    },
    {
      "cell_type": "markdown",
      "metadata": {
        "id": "uaAOi7UKH9tF"
      },
      "source": [
        "## 선형회귀\n",
        "\n",
        "\n"
      ]
    },
    {
      "cell_type": "markdown",
      "metadata": {
        "id": "hh-gOfl5mcrD"
      },
      "source": [
        "### 모델"
      ]
    },
    {
      "cell_type": "code",
      "metadata": {
        "id": "bfAKkbaIITxp"
      },
      "source": [
        "class Neuron:\n",
        "  def __init__(self):\n",
        "    self.w = 1.0\n",
        "    self.b = 1.0\n",
        "\n",
        "  def forpass(self ,x):\n",
        "    y_hat = x * self.w + self.b\n",
        "    return y_hat\n",
        "\n",
        "  def backprop(self , x , err):\n",
        "    w_grad = x * err\n",
        "    b_grad = 1 * err\n",
        "    return w_grad , b_grad\n",
        "  \n",
        "  def fit(self , x , y , epochs = 100):\n",
        "    for i in range(epochs):\n",
        "      for x_i , y_i in zip(x,y):\n",
        "        y_hat = self.forpass(x_i)\n",
        "        err = -(y_i - y_hat)\n",
        "        w_grad , b_grad= self.backprop(x_i , err)\n",
        "        self.w -= w_grad\n",
        "        self.b -= b_grad"
      ],
      "execution_count": null,
      "outputs": []
    },
    {
      "cell_type": "markdown",
      "metadata": {
        "id": "8UwkD5uRminU"
      },
      "source": [
        "### 학습 데이터"
      ]
    },
    {
      "cell_type": "code",
      "metadata": {
        "id": "EqsSf6m8KQ9C"
      },
      "source": [
        "from sklearn.datasets import load_diabetes\n",
        "\n",
        "diabetes = load_diabetes()\n",
        "x = diabetes.data[:,2]\n",
        "y = diabetes.target\n",
        "\n",
        "neuron = Neuron()\n",
        "neuron.fit( x , y )\n"
      ],
      "execution_count": null,
      "outputs": []
    },
    {
      "cell_type": "markdown",
      "metadata": {
        "id": "GGG7LuQdmlHW"
      },
      "source": [
        "### 결과"
      ]
    },
    {
      "cell_type": "code",
      "metadata": {
        "id": "nfBb-0_VK_Yw",
        "colab": {
          "base_uri": "https://localhost:8080/",
          "height": 279
        },
        "outputId": "c9e4c8f5-955c-4283-e5e9-e54699af4bca"
      },
      "source": [
        "import matplotlib.pyplot as plt\n",
        "\n",
        "plt.scatter(x,y)\n",
        "pt1 = (-0.1 , -0.1 * neuron.w + neuron.b)\n",
        "pt2 = (0.15 , 0.15 * neuron.w + neuron.b)\n",
        "plt.plot([pt1[0],pt2[0]],[pt1[1],pt2[1]])\n",
        "plt.xlabel('x')\n",
        "plt.ylabel('y')\n",
        "plt.show()"
      ],
      "execution_count": null,
      "outputs": [
        {
          "output_type": "display_data",
          "data": {
            "image/png": "[encoded data removed]",
            "text/plain": [
              "<Figure size 432x288 with 1 Axes>"
            ]
          },
          "metadata": {
            "tags": [],
            "needs_background": "light"
          }
        }
      ]
    },
    {
      "cell_type": "markdown",
      "metadata": {
        "id": "SMVmqHRGIF1N"
      },
      "source": [
        "## 페셉트론\n"
      ]
    },
    {
      "cell_type": "markdown",
      "metadata": {
        "id": "YLwoSV1empr2"
      },
      "source": [
        "### 전체 데이터 "
      ]
    },
    {
      "cell_type": "code",
      "metadata": {
        "id": "c0WpOCaYn_s0"
      },
      "source": [
        "from sklearn.datasets import load_breast_cancer\n",
        "from sklearn.model_selection import train_test_split\n",
        "cancer = load_breast_cancer()\n",
        "x = cancer.data\n",
        "y = cancer.target\n",
        "x_train, x_test , y_train , y_test = train_test_split(x,y, stratify = y , test_size=0.2 , random_state=42)\n",
        "\n"
      ],
      "execution_count": null,
      "outputs": []
    },
    {
      "cell_type": "code",
      "metadata": {
        "colab": {
          "base_uri": "https://localhost:8080/",
          "height": 279
        },
        "id": "KfoH4yrIolkk",
        "outputId": "d3e24b33-5028-48ce-8a5d-de9a5a8642aa"
      },
      "source": [
        "import matplotlib.pyplot as plt\n",
        "import numpy as np\n",
        "\n",
        "plt.boxplot(cancer.data)\n",
        "plt.xlabel('feature')\n",
        "plt.ylabel('value')\n",
        "plt.show()"
      ],
      "execution_count": null,
      "outputs": [
        {
          "output_type": "display_data",
          "data": {
            "image/png": "[encoded data removed]",
            "text/plain": [
              "<Figure size 432x288 with 1 Axes>"
            ]
          },
          "metadata": {
            "tags": [],
            "needs_background": "light"
          }
        }
      ]
    },
    {
      "cell_type": "code",
      "metadata": {
        "colab": {
          "base_uri": "https://localhost:8080/"
        },
        "id": "DzWieA8ipGlt",
        "outputId": "23ca9775-c753-4ae2-d071-c515a102fac8"
      },
      "source": [
        "cancer.feature_names[[3,13,23]]\n",
        "np.unique(cancer.target,return_counts=True)"
      ],
      "execution_count": null,
      "outputs": [
        {
          "output_type": "execute_result",
          "data": {
            "text/plain": [
              "(array([0, 1]), array([212, 357]))"
            ]
          },
          "metadata": {
            "tags": []
          },
          "execution_count": 6
        }
      ]
    },
    {
      "cell_type": "markdown",
      "metadata": {
        "id": "BIInevZymwyM"
      },
      "source": [
        "### 로지스틱 회귀 모델"
      ]
    },
    {
      "cell_type": "code",
      "metadata": {
        "id": "0UQJSfz3pv0W",
        "colab": {
          "base_uri": "https://localhost:8080/",
          "height": 130
        },
        "outputId": "c30fed37-7b71-4070-9a0a-2f073b247488"
      },
      "source": [
        "class LogisticNeuron:\n",
        "  def __init(self):\n",
        "    self.w = None;\n",
        "    self.b = None;\n",
        "    self.losses = []\n",
        "\n",
        "  def forpass(self ,x):\n",
        "    z = np.sum(x * self.w) + self.b\n",
        "    return z\n",
        "  \n",
        "  def backprop(self , x , err):\n",
        "    w_grad = x * err\n",
        "    b_grad = 1 * err\n",
        "    return w_grad , b_grad\n",
        "  \n",
        "  def activation(self, z):\n",
        "    a = 1 / (1 +np.exp(-z))\n",
        "    return a\n",
        "  \n",
        "  def fit(self , x ,y , epochs = 100):\n",
        "    self.w = np.ones(x.shape[1])\n",
        "    self.b = 0\n",
        "    for i in range(epochs):\n",
        "      for x_i , y_i in zip(x ,y):\n",
        "        z = self.forpass(x_i)\n",
        "        a = self.activation(z)\n",
        "        err = -(y_i - a)\n",
        "        w_grad , b_grad = self.backprop(x_i , err)\n",
        "        self.w -= w_grad\n",
        "        self.b -= b_grad\n",
        "    for i in index:\n",
        "    \n",
        "  def predict(self ,x):\n",
        "    z = [self.forpass(x_i) for x_i in x]\n",
        "    a = self.activation(np.array(z))\n",
        "    return a > 0.5\n",
        "  "
      ],
      "execution_count": null,
      "outputs": [
        {
          "output_type": "error",
          "ename": "IndentationError",
          "evalue": "ignored",
          "traceback": [
            "\u001b[0;36m  File \u001b[0;32m\"<ipython-input-44-773b7d10599e>\"\u001b[0;36m, line \u001b[0;32m33\u001b[0m\n\u001b[0;31m    def predict(self ,x):\u001b[0m\n\u001b[0m    ^\u001b[0m\n\u001b[0;31mIndentationError\u001b[0m\u001b[0;31m:\u001b[0m expected an indented block\n"
          ]
        }
      ]
    },
    {
      "cell_type": "markdown",
      "metadata": {
        "id": "OfYn5qV7m2Br"
      },
      "source": [
        "### 학습 데이터 적용"
      ]
    },
    {
      "cell_type": "code",
      "metadata": {
        "id": "NE3IRRyNLPut",
        "colab": {
          "base_uri": "https://localhost:8080/"
        },
        "outputId": "6cfbbc66-67ff-437e-af3c-dec52097ac1a"
      },
      "source": [
        "neuron = LogisticNeuron()\n",
        "neuron.fit(x_train , y_train)"
      ],
      "execution_count": null,
      "outputs": [
        {
          "output_type": "stream",
          "text": [
            "/usr/local/lib/python3.6/dist-packages/ipykernel_launcher.py:16: RuntimeWarning: overflow encountered in exp\n",
            "  app.launch_new_instance()\n"
          ],
          "name": "stderr"
        }
      ]
    },
    {
      "cell_type": "markdown",
      "metadata": {
        "id": "1dnPRC4Ym8Jw"
      },
      "source": [
        "### 결과"
      ]
    },
    {
      "cell_type": "code",
      "metadata": {
        "id": "JtX_gNykLZJW",
        "colab": {
          "base_uri": "https://localhost:8080/"
        },
        "outputId": "e4bb14d7-b144-44f8-a6da-6559c8151f84"
      },
      "source": [
        "#Test result of LogisticNeuron\n",
        "np.mean(neuron.predict(x_test)== y_test )"
      ],
      "execution_count": null,
      "outputs": [
        {
          "output_type": "stream",
          "text": [
            "/usr/local/lib/python3.6/dist-packages/ipykernel_launcher.py:16: RuntimeWarning: overflow encountered in exp\n",
            "  app.launch_new_instance()\n"
          ],
          "name": "stderr"
        },
        {
          "output_type": "execute_result",
          "data": {
            "text/plain": [
              "0.8245614035087719"
            ]
          },
          "metadata": {
            "tags": []
          },
          "execution_count": 46
        }
      ]
    },
    {
      "cell_type": "markdown",
      "metadata": {
        "id": "xHgg3disP8mZ"
      },
      "source": [
        "## 단일층 신경망"
      ]
    },
    {
      "cell_type": "markdown",
      "metadata": {
        "id": "5rliU6I_m_k-"
      },
      "source": [
        "### 단일층 신경망 모델"
      ]
    },
    {
      "cell_type": "code",
      "metadata": {
        "id": "KN5pPyCFMK2w"
      },
      "source": [
        "class SingleLayer:\n",
        "  def __init__(self):\n",
        "    self.w = None\n",
        "    self.b = None\n",
        "    self.losses = []\n",
        "\n",
        "  def forpass(self ,x):\n",
        "    z = np.sum(x * self.w) + self.b\n",
        "    return z\n",
        "  \n",
        "  def backprop(self , x , err):\n",
        "    w_grad = x * err\n",
        "    b_grad = 1 * err\n",
        "    return w_grad , b_grad\n",
        "  \n",
        "  def activation(self, z):\n",
        "    a = 1 / (1 +np.exp(-z))\n",
        "    return a\n",
        "  \n",
        "  def fit(self , x ,y , epochs = 100):\n",
        "    self.w = np.ones(x.shape[1])\n",
        "    self.b = 0\n",
        "    self.losses\n",
        "    for i in range(epochs):\n",
        "      loss = 0\n",
        "      indexs = np.random.permutation(np.arange(len(x)))\n",
        "      for i in indexs:\n",
        "        z = self.forpass(x[i])\n",
        "        a = self.activation(z)\n",
        "        err = -(y[i] - a)\n",
        "        w_grad , b_grad = self.backprop(x[i] , err)\n",
        "        self.w -= w_grad\n",
        "        self.b -= b_grad\n",
        "\n",
        "        a = np.clip(a , 1e-10,1-1e-10)\n",
        "        loss += -(y[i]*np.log(a) + (1-y[i]*np.log(1-a)))\n",
        "      #손실함수값 저장\n",
        "      self.losses.append(loss/len(y))\n",
        "\n",
        "  def predict(self ,x):\n",
        "    z = [self.forpass(x_i) for x_i in x]\n",
        "    return np.array(z) > 0\n",
        "  \n",
        "  def score(self , x ,y):\n",
        "    return np.mean(self.predict(x) == y )\n"
      ],
      "execution_count": null,
      "outputs": []
    },
    {
      "cell_type": "markdown",
      "metadata": {
        "id": "ak49HRr9nHHq"
      },
      "source": [
        "### 단일층 학습"
      ]
    },
    {
      "cell_type": "code",
      "metadata": {
        "id": "xiJT4MVjYEge",
        "colab": {
          "base_uri": "https://localhost:8080/"
        },
        "outputId": "3a6fc0ad-5730-4dec-861c-23e5a9d22517"
      },
      "source": [
        "layer = SingleLayer()\n",
        "layer.fit(x_train , y_train)\n",
        "layer.score(x_test , y_test)"
      ],
      "execution_count": null,
      "outputs": [
        {
          "output_type": "stream",
          "text": [
            "/usr/local/lib/python3.6/dist-packages/ipykernel_launcher.py:17: RuntimeWarning: overflow encountered in exp\n"
          ],
          "name": "stderr"
        },
        {
          "output_type": "execute_result",
          "data": {
            "text/plain": [
              "0.9385964912280702"
            ]
          },
          "metadata": {
            "tags": []
          },
          "execution_count": 50
        }
      ]
    },
    {
      "cell_type": "markdown",
      "metadata": {
        "id": "3kYRNVmvnUo6"
      },
      "source": [
        "### 단일층 모델 적용 과정에서의 손실함수 결과 값"
      ]
    },
    {
      "cell_type": "code",
      "metadata": {
        "id": "L63DTwXVYLo2",
        "colab": {
          "base_uri": "https://localhost:8080/",
          "height": 279
        },
        "outputId": "c0143bee-580a-4960-e73e-f328e387e346"
      },
      "source": [
        "layer.score(x_test , y_test)\n",
        "plt.plot(layer.losses)\n",
        "plt.xlabel('epoch')\n",
        "plt.ylabel('loss')\n",
        "plt.show()"
      ],
      "execution_count": null,
      "outputs": [
        {
          "output_type": "display_data",
          "data": {
            "image/png": "[encoded data removed]",
            "text/plain": [
              "<Figure size 432x288 with 1 Axes>"
            ]
          },
          "metadata": {
            "tags": [],
            "needs_background": "light"
          }
        }
      ]
    },
    {
      "cell_type": "code",
      "metadata": {
        "id": "ZlKk3Ok_Zy2f",
        "colab": {
          "base_uri": "https://localhost:8080/"
        },
        "outputId": "52f82411-1ca9-42ce-a9e7-38084dc2a093"
      },
      "source": [
        "from sklearn.linear_model import SGDClassifier\n",
        "\n",
        "sgd = SGDClassifier(loss='log',max_iter=100 , tol=1e-3 , random_state=42)\n",
        "sgd.fit(x_train , y_train)\n",
        "sgd.score(x_test , y_test)"
      ],
      "execution_count": null,
      "outputs": [
        {
          "output_type": "execute_result",
          "data": {
            "text/plain": [
              "0.8333333333333334"
            ]
          },
          "metadata": {
            "tags": []
          },
          "execution_count": 56
        }
      ]
    },
    {
      "cell_type": "code",
      "metadata": {
        "id": "MLgXITRHafbp",
        "colab": {
          "base_uri": "https://localhost:8080/"
        },
        "outputId": "27a6fb6a-35a9-4584-cd8e-294720c40e53"
      },
      "source": [
        "sgd.predict(x_test[0:10])"
      ],
      "execution_count": null,
      "outputs": [
        {
          "output_type": "execute_result",
          "data": {
            "text/plain": [
              "array([0, 1, 0, 0, 0, 0, 1, 0, 0, 0])"
            ]
          },
          "metadata": {
            "tags": []
          },
          "execution_count": 57
        }
      ]
    },
    {
      "cell_type": "markdown",
      "metadata": {
        "id": "DdcxN0VAQts8"
      },
      "source": [
        "## 훈련"
      ]
    },
    {
      "cell_type": "markdown",
      "metadata": {
        "id": "sV9xa5haT3mG"
      },
      "source": [
        "### 훈련 세트와 테스트 세트"
      ]
    },
    {
      "cell_type": "code",
      "metadata": {
        "id": "RNrIpDHFQ0St"
      },
      "source": [
        "from sklearn.datasets import load_breast_cancer\n",
        "from sklearn.model_selection import train_test_split\n",
        "cancer = load_breast_cancer()\n",
        "\n",
        "x = cancer.data\n",
        "y = cancer.target\n",
        "x_train_all , x_test , y_train_all , y_test = train_test_split(x ,y , stratify=y,test_size=0.2 , random_state =42)"
      ],
      "execution_count": 5,
      "outputs": []
    },
    {
      "cell_type": "code",
      "metadata": {
        "id": "hyVxvNFJRAgn",
        "colab": {
          "base_uri": "https://localhost:8080/"
        },
        "outputId": "1bbdeb67-bc08-4e19-be44-71dbb146bdff"
      },
      "source": [
        "from sklearn.linear_model import SGDClassifier\n",
        "sgd = SGDClassifier(loss='log',random_state = 42)\n",
        "sgd.fit(x_train_all,y_train_all)\n",
        "sgd.score(x_test , y_test)"
      ],
      "execution_count": 6,
      "outputs": [
        {
          "output_type": "execute_result",
          "data": {
            "text/plain": [
              "0.8333333333333334"
            ]
          },
          "metadata": {
            "tags": []
          },
          "execution_count": 6
        }
      ]
    },
    {
      "cell_type": "code",
      "metadata": {
        "id": "AMEGXoNiRxkM",
        "colab": {
          "base_uri": "https://localhost:8080/"
        },
        "outputId": "42b5e787-23c8-48dc-d729-e2234c5ffdcb"
      },
      "source": [
        "#튜닝\n",
        "sgd = SGDClassifier(loss='hinge',random_state = 42)\n",
        "sgd.fit(x_train_all,y_train_all)\n",
        "sgd.score(x_test , y_test)"
      ],
      "execution_count": 7,
      "outputs": [
        {
          "output_type": "execute_result",
          "data": {
            "text/plain": [
              "0.9385964912280702"
            ]
          },
          "metadata": {
            "tags": []
          },
          "execution_count": 7
        }
      ]
    },
    {
      "cell_type": "markdown",
      "metadata": {
        "id": "Q3v3lws7T9pZ"
      },
      "source": [
        "### 검증 세트 적용"
      ]
    },
    {
      "cell_type": "markdown",
      "metadata": {
        "id": "inPX1X0Gnl7D"
      },
      "source": [
        "### 데이터 분활"
      ]
    },
    {
      "cell_type": "code",
      "metadata": {
        "id": "EKBXNdCGSVZs"
      },
      "source": [
        "from sklearn.datasets import load_breast_cancer\n",
        "from sklearn.model_selection import train_test_split\n",
        "cancer = load_breast_cancer()\n",
        "x = cancer.data\n",
        "y = cancer.target\n",
        "x_train_all , x_test , y_train_all , y_test = train_test_split(x ,y , stratify =y , test_size =0.2 , random_state =42)"
      ],
      "execution_count": 8,
      "outputs": []
    },
    {
      "cell_type": "code",
      "metadata": {
        "id": "shFiJ8zxUbOg",
        "colab": {
          "base_uri": "https://localhost:8080/"
        },
        "outputId": "901c9312-30f4-490a-d372-a6bfb3a54b63"
      },
      "source": [
        "x_train , x_val , y_train , y_val = train_test_split(x_train_all , y_train_all ,\n",
        "                                                     stratify =y_train_all , test_size =0.2 , random_state =42)\n",
        "print(len(x_train),len(x_val))"
      ],
      "execution_count": 9,
      "outputs": [
        {
          "output_type": "stream",
          "text": [
            "364 91\n"
          ],
          "name": "stdout"
        }
      ]
    },
    {
      "cell_type": "markdown",
      "metadata": {
        "id": "8VzTD_kinqZk"
      },
      "source": [
        "### log 손실함수를 적용한 일반화 성능"
      ]
    },
    {
      "cell_type": "code",
      "metadata": {
        "id": "Z4tS6xv9U_Ka",
        "colab": {
          "base_uri": "https://localhost:8080/"
        },
        "outputId": "71900b2e-bc29-4129-e945-fe449b228842"
      },
      "source": [
        "from sklearn.linear_model import SGDClassifier\n",
        "sgd = SGDClassifier(loss='log',random_state = 42)\n",
        "sgd.fit(x_train,y_train)\n",
        "sgd.score(x_test , y_test)"
      ],
      "execution_count": 10,
      "outputs": [
        {
          "output_type": "execute_result",
          "data": {
            "text/plain": [
              "0.6929824561403509"
            ]
          },
          "metadata": {
            "tags": []
          },
          "execution_count": 10
        }
      ]
    },
    {
      "cell_type": "markdown",
      "metadata": {
        "id": "wqx8jb-1pQqB"
      },
      "source": [
        "### 스케일이 조정되지 않은 데이터"
      ]
    },
    {
      "cell_type": "code",
      "metadata": {
        "id": "5a6HPO9LVXQa",
        "outputId": "1e807f84-5f3b-485e-9dce-bf5fc37b330f",
        "colab": {
          "base_uri": "https://localhost:8080/",
          "height": 296
        }
      },
      "source": [
        "import matplotlib.pyplot as plt\n",
        "import numpy as np\n",
        "\n",
        "print(cancer.feature_names[[2,3]])\n",
        "plt.boxplot(x_train[:, 2:4])\n",
        "plt.xlabel('freature')\n",
        "plt.ylabel('value')\n",
        "plt.show()"
      ],
      "execution_count": 11,
      "outputs": [
        {
          "output_type": "stream",
          "text": [
            "['mean perimeter' 'mean area']\n"
          ],
          "name": "stdout"
        },
        {
          "output_type": "display_data",
          "data": {
            "image/png": "[encoded data removed]",
            "text/plain": [
              "<Figure size 432x288 with 1 Axes>"
            ]
          },
          "metadata": {
            "tags": [],
            "needs_background": "light"
          }
        }
      ]
    },
    {
      "cell_type": "markdown",
      "metadata": {
        "id": "Losa9XPAp3h5"
      },
      "source": [
        "* 두 데이터 집단의 스케일 차이가 크므로 스케일 조정이 필요함을 알 수 있다"
      ]
    },
    {
      "cell_type": "markdown",
      "metadata": {
        "id": "rOedBOoRr1dE"
      },
      "source": [
        "### 업데이트의 양을 조절하고 가중치를 기록하는 단일층"
      ]
    },
    {
      "cell_type": "code",
      "metadata": {
        "id": "daPIS2ibpD-r"
      },
      "source": [
        "class SingleLayer:\n",
        "  def __init__(self, learning_rate = 0.1):\n",
        "    self.w = None\n",
        "    self.b = None\n",
        "    self.losses = []\n",
        "    # to record change of w\n",
        "    self.w_history = []\n",
        "    self.lr = learning_rate\n",
        "\n",
        "  def forpass(self ,x):\n",
        "    z = np.sum(x * self.w) + self.b\n",
        "    return z\n",
        "  \n",
        "  def backprop(self , x , err):\n",
        "    w_grad = x * err\n",
        "    b_grad = 1 * err\n",
        "    return w_grad , b_grad\n",
        "  \n",
        "  def activation(self, z):\n",
        "    a = 1 / (1 +np.exp(-z))\n",
        "    return a\n",
        "  \n",
        "  def fit(self , x ,y , epochs = 100):\n",
        "    self.w = np.ones(x.shape[1])\n",
        "    self.b = 0\n",
        "    self.losses\n",
        "    self.w_history.append(self.w.copy())\n",
        "    np.random.seed(42)\n",
        "    for i in range(epochs):\n",
        "      loss = 0\n",
        "      indexs = np.random.permutation(np.arange(len(x)))\n",
        "      for i in indexs:\n",
        "        z = self.forpass(x[i])\n",
        "        a = self.activation(z)\n",
        "        err = -(y[i] - a)\n",
        "        w_grad , b_grad = self.backprop(x[i] , err)\n",
        "        self.w -= w_grad\n",
        "        self.b -= b_grad\n",
        "        self.w_history.append(self.w.copy())\n",
        "\n",
        "        a = np.clip(a , 1e-10,1-1e-10)\n",
        "        loss += -(y[i]*np.log(a) + (1-y[i]*np.log(1-a)))\n",
        "      #손실함수값 저장\n",
        "      self.losses.append(loss/len(y))\n",
        "\n",
        "  def predict(self ,x):\n",
        "    z = [self.forpass(x_i) for x_i in x]\n",
        "    return np.array(z) > 0\n",
        "  \n",
        "  def score(self , x ,y):\n",
        "    return np.mean(self.predict(x) == y )\n"
      ],
      "execution_count": 12,
      "outputs": []
    },
    {
      "cell_type": "code",
      "metadata": {
        "id": "X9ts4iPRp-v5",
        "outputId": "9ae13217-b5cc-4919-e807-585455b2e41a",
        "colab": {
          "base_uri": "https://localhost:8080/"
        }
      },
      "source": [
        "layer = SingleLayer()\n",
        "layer.fit(x_train , y_train)\n",
        "layer.score(x_val , y_val)"
      ],
      "execution_count": 13,
      "outputs": [
        {
          "output_type": "stream",
          "text": [
            "/usr/local/lib/python3.6/dist-packages/ipykernel_launcher.py:20: RuntimeWarning: overflow encountered in exp\n"
          ],
          "name": "stderr"
        },
        {
          "output_type": "execute_result",
          "data": {
            "text/plain": [
              "0.9120879120879121"
            ]
          },
          "metadata": {
            "tags": []
          },
          "execution_count": 13
        }
      ]
    },
    {
      "cell_type": "code",
      "metadata": {
        "id": "jsZV0hCJsJgX",
        "outputId": "7d1aa411-568e-49bc-8493-991a7006a7c5",
        "colab": {
          "base_uri": "https://localhost:8080/",
          "height": 296
        }
      },
      "source": [
        "w2 = []\n",
        "w3 = []\n",
        "for w in layer.w_history:\n",
        "  w2.append(w[2])\n",
        "  w3.append(w[3])\n",
        "plt.plot(w2 ,w3)\n",
        "plt.plot(w2[-1],w3[-1],'ro')\n",
        "plt.xlabel('w[2]')\n",
        "plt.ylabel('w[3]')"
      ],
      "execution_count": 14,
      "outputs": [
        {
          "output_type": "execute_result",
          "data": {
            "text/plain": [
              "Text(0, 0.5, 'w[3]')"
            ]
          },
          "metadata": {
            "tags": []
          },
          "execution_count": 14
        },
        {
          "output_type": "display_data",
          "data": {
            "image/png": "[encoded data removed]",
            "text/plain": [
              "<Figure size 432x288 with 1 Axes>"
            ]
          },
          "metadata": {
            "tags": [],
            "needs_background": "light"
          }
        }
      ]
    },
    {
      "cell_type": "markdown",
      "metadata": {
        "id": "YuvzTR_8vFiJ"
      },
      "source": [
        "* w[2]에 비해 w[3]이 큰 폭으로 변화하고 있다"
      ]
    },
    {
      "cell_type": "markdown",
      "metadata": {
        "id": "vf-X4IiGvUsN"
      },
      "source": [
        "### 표준화"
      ]
    },
    {
      "cell_type": "code",
      "metadata": {
        "id": "YeXMIIKttD_3"
      },
      "source": [
        "train_mean = np.mean(x_train , axis= 0)\n",
        "train_std = np.std(x_train , axis = 0)\n",
        "x_train_scaled = (x_train - train_mean) / train_std"
      ],
      "execution_count": 15,
      "outputs": []
    },
    {
      "cell_type": "code",
      "metadata": {
        "id": "OOvAmMRFwA-j",
        "outputId": "ffe3dff3-a272-4e31-cd51-142941fa3aec",
        "colab": {
          "base_uri": "https://localhost:8080/",
          "height": 296
        }
      },
      "source": [
        "layer2 = SingleLayer()\n",
        "layer2.fit(x_train_scaled , y_train )\n",
        "w2 = []\n",
        "w3 = []\n",
        "for w in layer2.w_history:\n",
        "  w2.append(w[2])\n",
        "  w3.append(w[3])\n",
        "plt.plot(w2,w3)\n",
        "plt.plot(w2[-1],w3[-1],'ro')\n",
        "plt.xlabel('w[2]')\n",
        "plt.ylabel('w[3]')"
      ],
      "execution_count": 16,
      "outputs": [
        {
          "output_type": "execute_result",
          "data": {
            "text/plain": [
              "Text(0, 0.5, 'w[3]')"
            ]
          },
          "metadata": {
            "tags": []
          },
          "execution_count": 16
        },
        {
          "output_type": "display_data",
          "data": {
            "image/png": "[encoded data removed]",
            "text/plain": [
              "<Figure size 432x288 with 1 Axes>"
            ]
          },
          "metadata": {
            "tags": [],
            "needs_background": "light"
          }
        }
      ]
    },
    {
      "cell_type": "markdown",
      "metadata": {
        "id": "tBNdJmhXxGVV"
      },
      "source": [
        "* 변화의 비율이 비슷하기 때문에 가중치는 대각선 방향으로 움직임을 보인다."
      ]
    },
    {
      "cell_type": "markdown",
      "metadata": {
        "id": "TEw41BuDxV1i"
      },
      "source": [
        "### 모델 성능 평가 - 검증 세트"
      ]
    },
    {
      "cell_type": "code",
      "metadata": {
        "id": "-DIdxE9swU07",
        "outputId": "a60b1562-2f94-4077-d3ce-68debc300d88",
        "colab": {
          "base_uri": "https://localhost:8080/"
        }
      },
      "source": [
        "val_mean = np.mean(x_val , axis = 0)\n",
        "val_std = np.std(x_val , axis = 0)\n",
        "x_val_scaled = (x_val - val_mean) / val_std\n",
        "layer2.score(x_val_scaled,y_val)\n"
      ],
      "execution_count": 18,
      "outputs": [
        {
          "output_type": "execute_result",
          "data": {
            "text/plain": [
              "0.9560439560439561"
            ]
          },
          "metadata": {
            "tags": []
          },
          "execution_count": 18
        }
      ]
    },
    {
      "cell_type": "code",
      "metadata": {
        "id": "jOJiU0GuxVHh"
      },
      "source": [
        ""
      ],
      "execution_count": 17,
      "outputs": []
    }
  ]
}